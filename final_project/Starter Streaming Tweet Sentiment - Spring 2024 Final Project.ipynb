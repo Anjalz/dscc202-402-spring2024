{
 "cells": [
  {
   "cell_type": "markdown",
   "metadata": {
    "application/vnd.databricks.v1+cell": {
     "cellMetadata": {
      "byteLimit": 2048000,
      "rowLimit": 10000
     },
     "inputWidgets": {},
     "nuid": "fc749083-2211-485c-943f-640e198b2c70",
     "showTitle": false,
     "title": ""
    }
   },
   "source": [
    "## DSCC202-402 Data Science at Scale Final Project\n",
    "### Tracking Tweet sentiment at scale using a pretrained transformer (classifier)\n",
    "<p>Consider the following illustration of the end to end system that you will be building.  Each student should do their own work.  The project will demonstrate your understanding of Spark Streaming, the medalion data architecture using Delta Lake, Spark Inference at Scale using an MLflow packaged model as well as Exploritory Data Analysis and System Tracking and Monitoring.</p>\n",
    "<br><br>\n",
    "<img src=\"https://data-science-at-scale.s3.amazonaws.com/images/pipeline.drawio.png\">\n",
    "\n",
    "<p>\n",
    "You will be pulling an updated copy of the course GitHub repositiory: <a href=\"https://github.com/lpalum/dscc202-402-spring2024\">The Repo</a>.  If you are unclear on how to pull an updated copy using the GitHub command line, the following <a href=\"https://techwritingmatters.com/how-to-update-your-forked-repository-on-github\">document</a> is helpful.  Be sure to add the professors and TAs as collaborators on your project. \n",
    "\n",
    "- lpalum@gmail.com GitHub ID: lpalum\n",
    "- ajay.anand@rochester.edu GitHub ID: ajayan12\n",
    "- divyamunot1999@gmail.com GitHub ID: divyamunot\n",
    "- ylong6@u.Rochester.edu GitHub ID: NinaLong2077\n",
    "\n",
    "Once you have updates your fork of the repository you should see the following template project that is resident in the final_project directory.\n",
    "</p>\n",
    "\n",
    "<img src=\"https://data-science-at-scale.s3.amazonaws.com/images/notebooks.drawio.png\">\n",
    "\n",
    "<p>\n",
    "You can then pull your project into the Databrick Workspace using the <a href=\"https://www.databricks.training/step-by-step/importing-courseware-from-github/index.html\">Repos</a> feature.\n",
    "Each student is expected to submit the URL of their project on GitHub with their code checked in on the main/master branch.  This illustration highlights the branching scheme that you may use to work on your code in steps and then merge your submission into your master branch before submitting.\n",
    "</p>\n",
    "<img src=\"https://data-science-at-scale.s3.amazonaws.com/images/github.drawio.png\">\n",
    "<p>\n",
    "Work your way through this notebook which will give you the steps required to submit a complete and compliant project.  The following illustration and associated data dictionary specifies the transformations and data that you are to generate for each step in the medallion pipeline.\n",
    "</p>\n",
    "<br><br>\n",
    "<img src=\"https://data-science-at-scale.s3.amazonaws.com/images/dataframes.drawio.png\">\n",
    "\n",
    "#### Bronze Data - raw ingest\n",
    "- date - string in the source json\n",
    "- user - string in the source json\n",
    "- text - tweet string in the source json\n",
    "- sentiment - the given sentiment of the text as determined by an unknown model that is provided in the source json\n",
    "- source_file - the path of the source json file the this row of data was read from\n",
    "- processing_time - a timestamp of when you read this row from the source json\n",
    "\n",
    "#### Silver Data - Bronze Preprocessing\n",
    "- timestamp - convert date string in the bronze data to a timestamp\n",
    "- mention - every @username mentioned in the text string in the bronze data gets a row in this silver data table.\n",
    "- cleaned_text - the bronze text data with the mentions (@username) removed.\n",
    "- sentiment - the given sentiment that was associated with the text in the bronze table.\n",
    "\n",
    "#### Gold Data - Silver Table Inference\n",
    "- timestamp - the timestamp from the silver data table rows\n",
    "- mention - the mention from the silver data table rows\n",
    "- cleaned_text - the cleaned_text from the silver data table rows\n",
    "- sentiment - the given sentiment from the silver data table rows\n",
    "- predicted_score - score out of 100 from the Hugging Face Sentiment Transformer\n",
    "- predicted_sentiment - string representation of the sentiment\n",
    "- sentiment_id - 0 for negative and 1 for postive associated with the given sentiment\n",
    "- predicted_sentiment_id - 0 for negative and 1 for positive assocaited with the Hugging Face Sentiment Transformer\n",
    "\n",
    "#### Application Data - Gold Table Aggregation\n",
    "- min_timestamp - the oldest timestamp on a given mention (@username)\n",
    "- max_timestamp - the newest timestamp on a given mention (@username)\n",
    "- mention - the user (@username) that this row pertains to.\n",
    "- negative - total negative tweets directed at this mention (@username)\n",
    "- neutral - total neutral tweets directed at this mention (@username)\n",
    "- positive - total positive tweets directed at this mention (@username)\n",
    "\n",
    "When you are designing your approach, one of the main decisions that you will need to make is how you are going to orchestrate the streaming data processing in your pipeline.  There are several valid approaches.  First, you may choose to start the bronze_stream and let it complete (read and append all of the source data) before preceeding and starting up the silver_stream.  This approach has latency associated with it but it will allow your code to proceed in a linear fashion and process all the data by the end of your notebook execution.  Another potential approach is to start all the streams and have a \"watch\" method to determine when the pipeline has processed sufficient or all of the source data before stopping and displaying results.  Both of these approaches are valid and have different implications on how you will trigger your steams and how you will gate the execution of your pipeline.  Think through how you want to proceed and ask questions if you need guidance. The following references may be helpful:\n",
    "- [Spark Structured Streaming Programming Guide](https://spark.apache.org/docs/latest/structured-streaming-programming-guide.html)\n",
    "- [Databricks Autoloader - Cloudfiles](https://docs.databricks.com/en/ingestion/auto-loader/index.html)\n",
    "\n",
    "### Be sure that your project runs end to end when *Run all* is executued on this notebook! (15 Points out of 60)"
   ]
  },
  {
   "cell_type": "code",
   "execution_count": 0,
   "metadata": {
    "application/vnd.databricks.v1+cell": {
     "cellMetadata": {
      "byteLimit": 2048000,
      "rowLimit": 10000
     },
     "inputWidgets": {},
     "nuid": "068f25d0-1387-4342-89cf-ce82a8d614ce",
     "showTitle": true,
     "title": "Pull in the Includes & Utiltites"
    }
   },
   "outputs": [
    {
     "output_type": "display_data",
     "data": {
      "application/vnd.databricks.v1+bamboolib_hint": "{\"pd.DataFrames\": [], \"version\": \"0.0.1\"}",
      "text/plain": []
     },
     "metadata": {},
     "output_type": "display_data"
    },
    {
     "output_type": "display_data",
     "data": {
      "text/html": [
       "\n",
       "<H2>VERY IMPORTANT TO UNDERSTAND THE USE OF THESE VARIABLES!<br> Please ask if you are confused about their use.</H2>\n",
       "<table border=1>\n",
       "<tr><td><b>Variable Name</b></td><td><b>Value</b></td><td><b>Description</b></td></tr>\n",
       "<tr><td>TWEET_BUCKET_NAME</td><td>voc-75-databricks-data</td><td>AWS S3 Bucket Name where the tweets are coming into your system.</td></tr>\n",
       "<tr><td>TWEET_BUCKET_URL</td><td>https://voc-75-databricks-data.s3.amazonaws.com/</td><td>AWS S3 Bucket URL where the tweets are coming into your system.</td></tr>\n",
       "<tr><td>TWEET_SOURCE_PATH</td><td>s3a://voc-75-databricks-data/voc_volume/</td><td>AWS S3 Path where the tweets are coming into your system.</td></tr>\n",
       "<tr><td>USER_DIR</td><td>/tmp/labuser104917-3042539/</td><td>Path to the local storage (dbfs) for your project.</td></tr>\n",
       "<tr><td>BRONZE_CHECKPOINT</td><td>/tmp/labuser104917-3042539/bronze.checkpoint</td><td>Store your Bronze Checkpoint data here.</td></tr>\n",
       "<tr><td>BRONZE_DELTA</td><td>/tmp/labuser104917-3042539/bronze.delta</td><td>Store your Bronze Delta Table here.</td></tr>\n",
       "<tr><td>SILVER_CHECKPOINT</td><td>/tmp/labuser104917-3042539/silver.checkpoint</td><td>Store your Silver Checkpoint data here.</td></tr>\n",
       "<tr><td>SILVER_DELTA</td><td>/tmp/labuser104917-3042539/silver.delta</td><td>Store your Silver Delta Table here.</td></tr>\n",
       "<tr><td>GOLD_CHECKPOINT</td><td>/tmp/labuser104917-3042539/gold.checkpoint</td><td>Store your Gold Checkpoint data here.</td></tr>\n",
       "<tr><td>GOLD_DELTA</td><td>/tmp/labuser104917-3042539/gold.delta</td><td>Store your Gold Delta Table here.</td></tr>\n",
       "<tr><td>MODEL_NAME</td><td>HF_TWEET_SENTIMENT</td><td>Load this production model</td></tr>\n",
       "<tr><td>HF_MODEL_NAME</td><td>finiteautomata/bertweet-base-sentiment-analysis</td><td>The Hugging Face Model for Tweet sentiment classification: https://huggingface.co/finiteautomata/bertweet-base-sentiment-analysis </td></tr>\n",
       "</table>\n"
      ]
     },
     "metadata": {
      "application/vnd.databricks.v1+output": {
       "addedWidgets": {},
       "arguments": {},
       "data": "\n<H2>VERY IMPORTANT TO UNDERSTAND THE USE OF THESE VARIABLES!<br> Please ask if you are confused about their use.</H2>\n<table border=1>\n<tr><td><b>Variable Name</b></td><td><b>Value</b></td><td><b>Description</b></td></tr>\n<tr><td>TWEET_BUCKET_NAME</td><td>voc-75-databricks-data</td><td>AWS S3 Bucket Name where the tweets are coming into your system.</td></tr>\n<tr><td>TWEET_BUCKET_URL</td><td>https://voc-75-databricks-data.s3.amazonaws.com/</td><td>AWS S3 Bucket URL where the tweets are coming into your system.</td></tr>\n<tr><td>TWEET_SOURCE_PATH</td><td>s3a://voc-75-databricks-data/voc_volume/</td><td>AWS S3 Path where the tweets are coming into your system.</td></tr>\n<tr><td>USER_DIR</td><td>/tmp/labuser104917-3042539/</td><td>Path to the local storage (dbfs) for your project.</td></tr>\n<tr><td>BRONZE_CHECKPOINT</td><td>/tmp/labuser104917-3042539/bronze.checkpoint</td><td>Store your Bronze Checkpoint data here.</td></tr>\n<tr><td>BRONZE_DELTA</td><td>/tmp/labuser104917-3042539/bronze.delta</td><td>Store your Bronze Delta Table here.</td></tr>\n<tr><td>SILVER_CHECKPOINT</td><td>/tmp/labuser104917-3042539/silver.checkpoint</td><td>Store your Silver Checkpoint data here.</td></tr>\n<tr><td>SILVER_DELTA</td><td>/tmp/labuser104917-3042539/silver.delta</td><td>Store your Silver Delta Table here.</td></tr>\n<tr><td>GOLD_CHECKPOINT</td><td>/tmp/labuser104917-3042539/gold.checkpoint</td><td>Store your Gold Checkpoint data here.</td></tr>\n<tr><td>GOLD_DELTA</td><td>/tmp/labuser104917-3042539/gold.delta</td><td>Store your Gold Delta Table here.</td></tr>\n<tr><td>MODEL_NAME</td><td>HF_TWEET_SENTIMENT</td><td>Load this production model</td></tr>\n<tr><td>HF_MODEL_NAME</td><td>finiteautomata/bertweet-base-sentiment-analysis</td><td>The Hugging Face Model for Tweet sentiment classification: https://huggingface.co/finiteautomata/bertweet-base-sentiment-analysis </td></tr>\n</table>\n",
       "datasetInfos": [],
       "metadata": {},
       "removedWidgets": [],
       "textData": null,
       "type": "htmlSandbox"
      }
     },
     "output_type": "display_data"
    },
    {
     "output_type": "stream",
     "name": "stdout",
     "output_type": "stream",
     "text": [
      "the includes are included\n"
     ]
    }
   ],
   "source": [
    "%run ./includes/includes"
   ]
  },
  {
   "cell_type": "code",
   "execution_count": 0,
   "metadata": {
    "application/vnd.databricks.v1+cell": {
     "cellMetadata": {
      "byteLimit": 2048000,
      "rowLimit": 10000
     },
     "inputWidgets": {},
     "nuid": "cd1b8524-f54a-494e-84b4-e8c597e56431",
     "showTitle": false,
     "title": ""
    }
   },
   "outputs": [
    {
     "output_type": "stream",
     "name": "stdout",
     "output_type": "stream",
     "text": [
      "Out[6]: '\\ndbutils.widgets.dropdown(\"clear_previous_run\", \"No\", [\"No\",\"Yes\"])\\nif (getArgument(\"clear_previous_run\") == \"Yes\"):\\n    clear_previous_run()\\n    print(\"Cleared all previous data.\")\\n\\ndbutils.widgets.dropdown(\"stop_streams\", \"No\", [\"No\",\"Yes\"])\\nif (getArgument(\"stop_streams\") == \"Yes\"):\\n    stop_all_streams()\\n    print(\"Stopped all active streams.\")\\n'"
     ]
    }
   ],
   "source": [
    "\"\"\"\n",
    "dbutils.widgets.dropdown(\"clear_previous_run\", \"No\", [\"No\",\"Yes\"])\n",
    "if (getArgument(\"clear_previous_run\") == \"Yes\"):\n",
    "    clear_previous_run()\n",
    "    print(\"Cleared all previous data.\")\n",
    "\n",
    "dbutils.widgets.dropdown(\"stop_streams\", \"No\", [\"No\",\"Yes\"])\n",
    "if (getArgument(\"stop_streams\") == \"Yes\"):\n",
    "    stop_all_streams()\n",
    "    print(\"Stopped all active streams.\")\n",
    "\"\"\""
   ]
  },
  {
   "cell_type": "code",
   "execution_count": 0,
   "metadata": {
    "application/vnd.databricks.v1+cell": {
     "cellMetadata": {
      "byteLimit": 2048000,
      "rowLimit": 10000
     },
     "inputWidgets": {},
     "nuid": "6512bf1b-50e0-4a4b-84a9-e280a6260b56",
     "showTitle": true,
     "title": "Notebook Control Widgets (maybe helpful)"
    }
   },
   "outputs": [
    {
     "output_type": "stream",
     "name": "stdout",
     "output_type": "stream",
     "text": [
      "Out[7]: '\\ndbutils.widgets.dropdown(\"clear_previous_run\", \"No\", [\"No\",\"Yes\"])\\nif (getArgument(\"clear_previous_run\") == \"Yes\"):\\n    clear_previous_run()\\n    print(\"Cleared all previous data.\")\\n\\ndbutils.widgets.dropdown(\"stop_streams\", \"No\", [\"No\",\"Yes\"])\\nif (getArgument(\"stop_streams\") == \"Yes\"):\\n    stop_all_streams()\\n    print(\"Stopped all active streams.\")\\n\\nfrom delta import *\\ndbutils.widgets.dropdown(\"optimize_tables\", \"No\", [\"No\",\"Yes\"])\\nif (getArgument(\"optimize_tables\") == \"Yes\"):\\n    # Suck up those small files that we have been appending.\\n    DeltaTable.forPath(spark, BRONZE_DELTA).optimize().executeCompaction()\\n    # Suck up those small files that we have been appending.\\n    DeltaTable.forPath(spark, SILVER_DELTA).optimize().executeCompaction()\\n    # Suck up those small files that we have been appending.\\n    DeltaTable.forPath(spark, GOLD_DELTA).optimize().executeCompaction()\\n    print(\"Optimized all of the Delta Tables\")\\n    '"
     ]
    }
   ],
   "source": [
    "\"\"\"\n",
    "Adding a widget to the notebook to control the clearing of a previous run.\n",
    "or stopping the active streams using routines defined in the utilities notebook\n",
    "\"\"\"\n",
    "dbutils.widgets.removeAll()\n",
    "\"\"\"\n",
    "dbutils.widgets.dropdown(\"clear_previous_run\", \"No\", [\"No\",\"Yes\"])\n",
    "if (getArgument(\"clear_previous_run\") == \"Yes\"):\n",
    "    clear_previous_run()\n",
    "    print(\"Cleared all previous data.\")\n",
    "\n",
    "dbutils.widgets.dropdown(\"stop_streams\", \"No\", [\"No\",\"Yes\"])\n",
    "if (getArgument(\"stop_streams\") == \"Yes\"):\n",
    "    stop_all_streams()\n",
    "    print(\"Stopped all active streams.\")\n",
    "\n",
    "from delta import *\n",
    "dbutils.widgets.dropdown(\"optimize_tables\", \"No\", [\"No\",\"Yes\"])\n",
    "if (getArgument(\"optimize_tables\") == \"Yes\"):\n",
    "    # Suck up those small files that we have been appending.\n",
    "    DeltaTable.forPath(spark, BRONZE_DELTA).optimize().executeCompaction()\n",
    "    # Suck up those small files that we have been appending.\n",
    "    DeltaTable.forPath(spark, SILVER_DELTA).optimize().executeCompaction()\n",
    "    # Suck up those small files that we have been appending.\n",
    "    DeltaTable.forPath(spark, GOLD_DELTA).optimize().executeCompaction()\n",
    "    print(\"Optimized all of the Delta Tables\")\n",
    "    \"\"\""
   ]
  },
  {
   "cell_type": "markdown",
   "metadata": {
    "application/vnd.databricks.v1+cell": {
     "cellMetadata": {
      "byteLimit": 2048000,
      "rowLimit": 10000
     },
     "inputWidgets": {},
     "nuid": "e8ce7c13-7f8f-4e11-b50c-fdaebbcf3f99",
     "showTitle": false,
     "title": ""
    }
   },
   "source": [
    "## 1.0 Import your libraries here...\n",
    "- Are your shuffle partitions consistent with your cluster and your workload?\n",
    "- Do you have the necessary libraries to perform the required operations in the pipeline/application?"
   ]
  },
  {
   "cell_type": "code",
   "execution_count": 0,
   "metadata": {
    "application/vnd.databricks.v1+cell": {
     "cellMetadata": {
      "byteLimit": 2048000,
      "rowLimit": 10000
     },
     "inputWidgets": {},
     "nuid": "c32bb42c-9352-483c-a019-6aa659f12573",
     "showTitle": false,
     "title": ""
    }
   },
   "outputs": [],
   "source": [
    "# Import necessary libraries from PySpark\n",
    "from pyspark.sql import SparkSession\n",
    "from pyspark.sql.types import StructType, StructField, StringType, TimestampType\n",
    "from pyspark.sql.functions import col, expr, to_timestamp, explode_outer, regexp_replace, split, current_timestamp, input_file_name, when, desc\n",
    "from pyspark.sql.streaming import DataStreamReader\n",
    "from delta import DeltaTable\n",
    "from pyspark.sql import functions as F\n",
    "\n",
    "# Import machine learning and metrics calculation libraries\n",
    "import mlflow\n",
    "import mlflow.pyfunc\n",
    "from sklearn.metrics import precision_score, recall_score, f1_score, confusion_matrix\n",
    "\n",
    "# Import data manipulation and visualization libraries\n",
    "import pandas as pd\n",
    "import matplotlib.pyplot as plt\n",
    "import seaborn as sns\n",
    "\n",
    "# Import standard libraries\n",
    "import time"
   ]
  },
  {
   "cell_type": "markdown",
   "metadata": {
    "application/vnd.databricks.v1+cell": {
     "cellMetadata": {
      "byteLimit": 2048000,
      "rowLimit": 10000
     },
     "inputWidgets": {},
     "nuid": "2b7624b4-0aa5-46b7-9767-52f462b2c574",
     "showTitle": false,
     "title": ""
    }
   },
   "source": [
    "## 2.0 Use the utility functions to ...\n",
    "- Read the source file directory listing\n",
    "- Count the source files (how many are there?)\n",
    "- print the contents of one of the files"
   ]
  },
  {
   "cell_type": "code",
   "execution_count": 0,
   "metadata": {
    "application/vnd.databricks.v1+cell": {
     "cellMetadata": {
      "byteLimit": 2048000,
      "rowLimit": 10000
     },
     "inputWidgets": {},
     "nuid": "a59749d5-e45d-460f-9be1-33652cda2ea5",
     "showTitle": false,
     "title": ""
    }
   },
   "outputs": [],
   "source": [
    "# Reading the files from the source\n",
    "source_files_df = get_source_listing_df()"
   ]
  },
  {
   "cell_type": "code",
   "execution_count": 0,
   "metadata": {
    "application/vnd.databricks.v1+cell": {
     "cellMetadata": {
      "byteLimit": 2048000,
      "rowLimit": 10000
     },
     "inputWidgets": {},
     "nuid": "d96a1966-bbc2-4fb9-b8c1-3fd4b07a7a32",
     "showTitle": false,
     "title": ""
    }
   },
   "outputs": [
    {
     "output_type": "stream",
     "name": "stdout",
     "output_type": "stream",
     "text": [
      "Total number of source files: 200001\n"
     ]
    }
   ],
   "source": [
    "# Counting the number of files\n",
    "num_files = len(source_files_df)\n",
    "print(f\"Total number of source files: {num_files}\")"
   ]
  },
  {
   "cell_type": "code",
   "execution_count": 0,
   "metadata": {
    "application/vnd.databricks.v1+cell": {
     "cellMetadata": {
      "byteLimit": 2048000,
      "rowLimit": 10000
     },
     "inputWidgets": {},
     "nuid": "19c36778-0e48-4fc6-8726-25405f921372",
     "showTitle": false,
     "title": ""
    }
   },
   "outputs": [
    {
     "output_type": "stream",
     "name": "stdout",
     "output_type": "stream",
     "text": [
      "b'{\"date\": \"Mon Apr 06 22:19:45 PDT 2009\", \"user\": \"_TheSpecialOne_\", \"text\": \"@switchfoot http://twitpic.com/2y1zl - Awww, that\\'s a bummer.  You shoulda got David Carr of Third Day to do it. ;D\", \"sentiment\": \"negative\"}'\n"
     ]
    }
   ],
   "source": [
    "# Displaying contents of the first file\n",
    "first_file = source_files_df.iloc[0]['File Name']\n",
    "file_contents = show_s3_file_contents(first_file)\n",
    "print(file_contents)"
   ]
  },
  {
   "cell_type": "markdown",
   "metadata": {
    "application/vnd.databricks.v1+cell": {
     "cellMetadata": {
      "byteLimit": 2048000,
      "rowLimit": 10000
     },
     "inputWidgets": {},
     "nuid": "1676aed7-527f-4ea7-9d3b-52544e8c1e37",
     "showTitle": false,
     "title": ""
    }
   },
   "source": [
    "## 3.0 Transform the Raw Data to Bronze Data using a stream\n",
    "- define the schema for the raw data\n",
    "- setup a read stream using cloudfiles and the source data format\n",
    "- setup a write stream using cloudfiles to append to the bronze delta table\n",
    "- enforce schema\n",
    "- allow a new schema to be merged into the bronze delta table\n",
    "- Use the defined BRONZE_CHECKPOINT and BRONZE_DELTA paths defines in the includes\n",
    "- name your raw to bronze stream as bronze_stream\n",
    "- transform the raw data to the bronze data using the data definition at the top of the notebook"
   ]
  },
  {
   "cell_type": "code",
   "execution_count": 0,
   "metadata": {
    "application/vnd.databricks.v1+cell": {
     "cellMetadata": {
      "byteLimit": 2048000,
      "rowLimit": 10000
     },
     "inputWidgets": {},
     "nuid": "e864fd8e-c6ac-45fa-93d5-da14b59c318b",
     "showTitle": false,
     "title": ""
    }
   },
   "outputs": [],
   "source": [
    "raw_data_schema = StructType([\n",
    "    StructField(\"date\", StringType(), True),\n",
    "    StructField(\"user\", StringType(), True),\n",
    "    StructField(\"text\", StringType(), True),\n",
    "    StructField(\"sentiment\", StringType(), True)\n",
    "])\n"
   ]
  },
  {
   "cell_type": "code",
   "execution_count": 0,
   "metadata": {
    "application/vnd.databricks.v1+cell": {
     "cellMetadata": {
      "byteLimit": 2048000,
      "rowLimit": 10000
     },
     "inputWidgets": {},
     "nuid": "55cb55e4-702f-4217-9151-492d68a5ba3f",
     "showTitle": false,
     "title": ""
    }
   },
   "outputs": [],
   "source": [
    "bronze_stream_df = (\n",
    "    spark.readStream\n",
    "    .format(\"cloudFiles\")\n",
    "    .option(\"cloudFiles.format\", \"json\")\n",
    "    .schema(raw_data_schema)\n",
    "    .load(TWEET_SOURCE_PATH)\n",
    ")"
   ]
  },
  {
   "cell_type": "code",
   "execution_count": 0,
   "metadata": {
    "application/vnd.databricks.v1+cell": {
     "cellMetadata": {
      "byteLimit": 2048000,
      "rowLimit": 10000
     },
     "inputWidgets": {},
     "nuid": "7d0e2270-31a3-4fd2-80c0-7ca3600ac82a",
     "showTitle": false,
     "title": ""
    }
   },
   "outputs": [],
   "source": [
    "# Adding source file and processing time columns\n",
    "bronze_stream_df = bronze_stream_df.withColumn(\"source_file\", input_file_name()).withColumn(\"processing_time\", current_timestamp())\n"
   ]
  },
  {
   "cell_type": "code",
   "execution_count": 0,
   "metadata": {
    "application/vnd.databricks.v1+cell": {
     "cellMetadata": {
      "byteLimit": 2048000,
      "rowLimit": 10000
     },
     "inputWidgets": {},
     "nuid": "ccd05ee9-d796-4edf-8cdc-3d0a04ea9c3f",
     "showTitle": false,
     "title": ""
    }
   },
   "outputs": [],
   "source": [
    "# Writing stream to Bronze Delta table\n",
    "bronze_stream = (\n",
    "    bronze_stream_df\n",
    "    .writeStream\n",
    "    .format(\"delta\")\n",
    "    .outputMode(\"append\")\n",
    "    .option(\"checkpointLocation\", BRONZE_CHECKPOINT)\n",
    "    .option(\"mergeSchema\", \"true\")\n",
    "    .start(BRONZE_DELTA)\n",
    ")"
   ]
  },
  {
   "cell_type": "code",
   "execution_count": 0,
   "metadata": {
    "application/vnd.databricks.v1+cell": {
     "cellMetadata": {
      "byteLimit": 2048000,
      "rowLimit": 10000
     },
     "inputWidgets": {},
     "nuid": "caf7649b-8564-4650-967e-4dac29632ef0",
     "showTitle": false,
     "title": ""
    }
   },
   "outputs": [],
   "source": [
    "#bronze_stream.stop()"
   ]
  },
  {
   "cell_type": "code",
   "execution_count": 0,
   "metadata": {
    "application/vnd.databricks.v1+cell": {
     "cellMetadata": {
      "byteLimit": 2048000,
      "rowLimit": 10000
     },
     "inputWidgets": {},
     "nuid": "4acf3d56-5ed2-4db8-8853-15473de9bd44",
     "showTitle": false,
     "title": ""
    }
   },
   "outputs": [],
   "source": [
    "#bronze_df = spark.read.format(\"delta\").load(BRONZE_DELTA)\n",
    "\n",
    "#count = bronze_df.count()\n",
    "#print(f\"Number of rows in Bronze table: {count}\")\n"
   ]
  },
  {
   "cell_type": "code",
   "execution_count": 0,
   "metadata": {
    "application/vnd.databricks.v1+cell": {
     "cellMetadata": {
      "byteLimit": 2048000,
      "rowLimit": 10000
     },
     "inputWidgets": {},
     "nuid": "1ae01fec-a8be-4beb-9138-807b0e14950c",
     "showTitle": false,
     "title": ""
    }
   },
   "outputs": [],
   "source": [
    "\n",
    "# Periodically checking the stream status\n",
    "#while bronze_stream.isActive:\n",
    "#    print(bronze_stream.status)\n",
    "#    time.sleep(30)\n"
   ]
  },
  {
   "cell_type": "markdown",
   "metadata": {
    "application/vnd.databricks.v1+cell": {
     "cellMetadata": {
      "byteLimit": 2048000,
      "rowLimit": 10000
     },
     "inputWidgets": {},
     "nuid": "9bc3e824-d218-43e5-a43b-4c6dbe31950d",
     "showTitle": false,
     "title": ""
    }
   },
   "source": [
    "## 4.0 Bronze Data Exploratory Data Analysis\n",
    "- How many tweets are captured in your Bronze Table?\n",
    "- Are there any columns that contain Nan or Null values?  If so how many and what will you do in your silver transforms to address this?\n",
    "- Count the number of tweets by each unique user handle and sort the data by descending count.\n",
    "- How many tweets have at least one mention (@) how many tweet have no mentions (@)\n",
    "- Plot a bar chart that shows the top 20 tweeters (users)\n"
   ]
  },
  {
   "cell_type": "code",
   "execution_count": 0,
   "metadata": {
    "application/vnd.databricks.v1+cell": {
     "cellMetadata": {
      "byteLimit": 2048000,
      "rowLimit": 10000
     },
     "inputWidgets": {},
     "nuid": "6b58ee23-b950-457a-81f6-4f0870dd3508",
     "showTitle": false,
     "title": ""
    }
   },
   "outputs": [],
   "source": [
    "bronze_data = spark.read.format(\"delta\").load(BRONZE_DELTA)"
   ]
  },
  {
   "cell_type": "code",
   "execution_count": 0,
   "metadata": {
    "application/vnd.databricks.v1+cell": {
     "cellMetadata": {
      "byteLimit": 2048000,
      "rowLimit": 10000
     },
     "inputWidgets": {},
     "nuid": "aa39c4ac-8472-4907-8608-6b4f620dfa8d",
     "showTitle": false,
     "title": ""
    }
   },
   "outputs": [
    {
     "output_type": "stream",
     "name": "stdout",
     "output_type": "stream",
     "text": [
      "Number of tweets in Bronze Table: 200000\n"
     ]
    }
   ],
   "source": [
    "#Counting total number of tweets in the bronze table\n",
    "bronze_tweet_count = bronze_data.count()\n",
    "print(\"Number of tweets in Bronze Table:\", bronze_tweet_count)"
   ]
  },
  {
   "cell_type": "code",
   "execution_count": 0,
   "metadata": {
    "application/vnd.databricks.v1+cell": {
     "cellMetadata": {
      "byteLimit": 2048000,
      "rowLimit": 10000
     },
     "inputWidgets": {},
     "nuid": "cd13e874-ec03-4045-8910-d1b1c82b3c6a",
     "showTitle": false,
     "title": ""
    }
   },
   "outputs": [
    {
     "output_type": "stream",
     "name": "stdout",
     "output_type": "stream",
     "text": [
      "No columns contain NaN or Null values.\n"
     ]
    }
   ],
   "source": [
    "# Checking for columns containing NaN or null values\n",
    "null_columns = [column for column in bronze_data.columns if bronze_data.where(col(column).isNull()).count() > 0]\n",
    "if null_columns:\n",
    "    print(\"Columns with NaN or Null values:\", null_columns)\n",
    "    for column in null_columns:\n",
    "        null_count = bronze_data.where(col(column).isNull()).count()\n",
    "        print(\"Null count in column '{}': {}\".format(column, null_count))\n",
    "else:\n",
    "    print(\"No columns contain NaN or Null values.\")\n"
   ]
  },
  {
   "cell_type": "code",
   "execution_count": 0,
   "metadata": {
    "application/vnd.databricks.v1+cell": {
     "cellMetadata": {
      "byteLimit": 2048000,
      "rowLimit": 10000
     },
     "inputWidgets": {},
     "nuid": "00134c5e-1312-4f2c-96c9-f68d9ae98a4e",
     "showTitle": false,
     "title": ""
    }
   },
   "outputs": [
    {
     "output_type": "stream",
     "name": "stdout",
     "output_type": "stream",
     "text": [
      "+---------------+-----+\n|           user|count|\n+---------------+-----+\n|       tweetpet|  310|\n|     nuttychris|  129|\n|      iHomeTech|   81|\n|       tsarnick|   77|\n| Hollywood_Trey|   71|\n|  divxdownloads|   68|\n|      lesley007|   65|\n|  redrobinrockn|   58|\n|    MissxMarisa|   57|\n|     SarahSaner|   56|\n|     sebby_peek|   55|\n|        kasey79|   54|\n|torilovesbradie|   51|\n|    whitsundays|   51|\n|         keza34|   49|\n| MiDesfileNegro|   48|\n|        Dogbook|   47|\n|   TraceyHewins|   46|\n|    effingcards|   43|\n|         Djalfy|   43|\n+---------------+-----+\nonly showing top 20 rows\n\n"
     ]
    }
   ],
   "source": [
    "#Counting the number of tweets by each unique user handle and sorting the data by descending count\n",
    "user_tweet_counts = bronze_data.groupBy(\"user\").count().orderBy(desc(\"count\"))\n",
    "user_tweet_counts.show()"
   ]
  },
  {
   "cell_type": "code",
   "execution_count": 0,
   "metadata": {
    "application/vnd.databricks.v1+cell": {
     "cellMetadata": {
      "byteLimit": 2048000,
      "rowLimit": 10000
     },
     "inputWidgets": {},
     "nuid": "5395f89c-cfa2-40d9-b4c7-a11e48d6d358",
     "showTitle": false,
     "title": ""
    }
   },
   "outputs": [
    {
     "output_type": "stream",
     "name": "stdout",
     "output_type": "stream",
     "text": [
      "Number of tweets with at least one mention (@): 93817\nNumber of tweets with no mentions (@): 106183\n"
     ]
    }
   ],
   "source": [
    "# Tweets statistics\n",
    "tweets_with_mentions = bronze_data.filter(col(\"text\").contains(\"@\")).count()\n",
    "tweets_without_mentions = bronze_tweet_count - tweets_with_mentions\n",
    "print(\"Number of tweets with at least one mention (@):\", tweets_with_mentions)\n",
    "print(\"Number of tweets with no mentions (@):\", tweets_without_mentions)"
   ]
  },
  {
   "cell_type": "code",
   "execution_count": 0,
   "metadata": {
    "application/vnd.databricks.v1+cell": {
     "cellMetadata": {
      "byteLimit": 2048000,
      "rowLimit": 10000
     },
     "inputWidgets": {},
     "nuid": "7cfb8cd2-e5ef-462b-a5a1-f4e107c50476",
     "showTitle": false,
     "title": ""
    }
   },
   "outputs": [
    {
     "output_type": "display_data",
     "data": {
      "image/png": "[encoded data removed]"
     },
     "metadata": {
      "application/vnd.databricks.v1+output": {
       "addedWidgets": {},
       "arguments": {},
       "data": "data:image/png;base64,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\n",
       "datasetInfos": [],
       "metadata": {},
       "removedWidgets": [],
       "type": "image"
      }
     },
     "output_type": "display_data"
    }
   ],
   "source": [
    "# Bar chart that shows the top 20 tweeters\n",
    "top_20_tweeters = user_tweet_counts.limit(20)\n",
    "top_20_tweeters_pd = top_20_tweeters.toPandas()\n",
    "\n",
    "import matplotlib.pyplot as plt\n",
    "plt.figure(figsize=(10, 6))\n",
    "plt.bar(top_20_tweeters_pd[\"user\"], top_20_tweeters_pd[\"count\"], color='purple')\n",
    "plt.xlabel(\"User\")\n",
    "plt.ylabel(\"Tweet Count\")\n",
    "plt.title(\"Top 20 Tweeters\")\n",
    "plt.xticks(rotation=90)\n",
    "plt.show()"
   ]
  },
  {
   "cell_type": "markdown",
   "metadata": {
    "application/vnd.databricks.v1+cell": {
     "cellMetadata": {
      "byteLimit": 2048000,
      "rowLimit": 10000
     },
     "inputWidgets": {},
     "nuid": "38c290b9-a42a-4551-857b-3f461b8a1be6",
     "showTitle": false,
     "title": ""
    }
   },
   "source": [
    "## 5.0 Transform the Bronze Data to Silver Data using a stream\n",
    "- setup a read stream on your bronze delta table\n",
    "- setup a write stream to append to the silver delta table\n",
    "- Use the defined SILVER_CHECKPOINT and SILVER_DELTA paths in the includes\n",
    "- name your bronze to silver stream as silver_stream\n",
    "- transform the bronze data to the silver data using the data definition at the top of the notebook"
   ]
  },
  {
   "cell_type": "code",
   "execution_count": 0,
   "metadata": {
    "application/vnd.databricks.v1+cell": {
     "cellMetadata": {
      "byteLimit": 2048000,
      "rowLimit": 10000
     },
     "inputWidgets": {},
     "nuid": "6760d504-b46f-42b3-ada0-67a479dbe2a7",
     "showTitle": false,
     "title": ""
    }
   },
   "outputs": [
    {
     "output_type": "stream",
     "name": "stdout",
     "output_type": "stream",
     "text": [
      "Out[25]: '\\ndbutils.fs.rm(SILVER_DELTA, True)\\ndbutils.fs.rm(SILVER_CHECKPOINT, True)\\n\\n# Create the Silver Delta and checkpoint directories again\\ndbutils.fs.mkdirs(SILVER_DELTA)\\ndbutils.fs.mkdirs(SILVER_CHECKPOINT)\\n'"
     ]
    }
   ],
   "source": [
    "\"\"\"\n",
    "dbutils.fs.rm(SILVER_DELTA, True)\n",
    "dbutils.fs.rm(SILVER_CHECKPOINT, True)\n",
    "\n",
    "# Create the Silver Delta and checkpoint directories again\n",
    "dbutils.fs.mkdirs(SILVER_DELTA)\n",
    "dbutils.fs.mkdirs(SILVER_CHECKPOINT)\n",
    "\"\"\""
   ]
  },
  {
   "cell_type": "code",
   "execution_count": 0,
   "metadata": {
    "application/vnd.databricks.v1+cell": {
     "cellMetadata": {
      "byteLimit": 2048000,
      "rowLimit": 10000
     },
     "inputWidgets": {},
     "nuid": "21813207-914e-4944-b39e-f1f279909d01",
     "showTitle": false,
     "title": ""
    }
   },
   "outputs": [
    {
     "output_type": "stream",
     "name": "stdout",
     "output_type": "stream",
     "text": [
      "Out[26]: '\\n# Define the Silver data schema\\nsilver_data_schema = StructType([\\n    StructField(\"timestamp\", TimestampType(), True),\\n    StructField(\"mention\", StringType(), True),\\n    StructField(\"cleaned_text\", StringType(), True),\\n    StructField(\"sentiment\", StringType(), True)\\n])\\n'"
     ]
    }
   ],
   "source": [
    "\"\"\"\n",
    "# Define the Silver data schema\n",
    "silver_data_schema = StructType([\n",
    "    StructField(\"timestamp\", TimestampType(), True),\n",
    "    StructField(\"mention\", StringType(), True),\n",
    "    StructField(\"cleaned_text\", StringType(), True),\n",
    "    StructField(\"sentiment\", StringType(), True)\n",
    "])\n",
    "\"\"\""
   ]
  },
  {
   "cell_type": "code",
   "execution_count": 0,
   "metadata": {
    "application/vnd.databricks.v1+cell": {
     "cellMetadata": {
      "byteLimit": 2048000,
      "rowLimit": 10000
     },
     "inputWidgets": {},
     "nuid": "4f814c32-5a2d-44fb-bc3a-5b437161cc92",
     "showTitle": false,
     "title": ""
    }
   },
   "outputs": [],
   "source": [
    "bronze_df = (\n",
    "    spark.readStream\n",
    "    .format(\"delta\")\n",
    "    .option(\"path\", BRONZE_DELTA)\n",
    "    .load()\n",
    ")"
   ]
  },
  {
   "cell_type": "code",
   "execution_count": 0,
   "metadata": {
    "application/vnd.databricks.v1+cell": {
     "cellMetadata": {
      "byteLimit": 2048000,
      "rowLimit": 10000
     },
     "inputWidgets": {},
     "nuid": "50d0a95d-a3b9-426f-af1f-adb6082c9f87",
     "showTitle": false,
     "title": ""
    }
   },
   "outputs": [],
   "source": [
    "spark.conf.set(\"spark.sql.legacy.timeParserPolicy\", \"LEGACY\")"
   ]
  },
  {
   "cell_type": "code",
   "execution_count": 0,
   "metadata": {
    "application/vnd.databricks.v1+cell": {
     "cellMetadata": {
      "byteLimit": 2048000,
      "rowLimit": 10000
     },
     "inputWidgets": {},
     "nuid": "047015a2-e66f-46b6-80db-fadcbfe5e734",
     "showTitle": false,
     "title": ""
    }
   },
   "outputs": [],
   "source": [
    "date_format = \"EEE MMM dd HH:mm:ss z yyyy\"\n",
    "\n",
    "silver_mid_df = bronze_df.select(\n",
    "    to_timestamp(col(\"date\"), date_format).alias(\"timestamp\"),\n",
    "    expr(\"explode_outer(split(text, ' ')) as word\"),\n",
    "    regexp_replace(col(\"text\"), \"@\\\\w+\", \"\").alias(\"cleaned_text\"),\n",
    "    col(\"sentiment\")\n",
    ").where(col(\"word\").rlike(\"^@\\\\w+\"))\n",
    "\n",
    "# Transforming to have rows for each mention specifically\n",
    "silver_df = silver_mid_df.select(\n",
    "    \"timestamp\",\n",
    "    expr(\"substring(word, 2) as mention\"),  # Removing '@' from the mention\n",
    "    \"cleaned_text\",\n",
    "    \"sentiment\"\n",
    ")\n"
   ]
  },
  {
   "cell_type": "code",
   "execution_count": 0,
   "metadata": {
    "application/vnd.databricks.v1+cell": {
     "cellMetadata": {
      "byteLimit": 2048000,
      "rowLimit": 10000
     },
     "inputWidgets": {},
     "nuid": "0cd2a02a-a2cf-4a45-9ac1-a06e34625389",
     "showTitle": false,
     "title": ""
    }
   },
   "outputs": [],
   "source": [
    "# Writing stream to Silver Delta table\n",
    "silver_stream = (\n",
    "    silver_df\n",
    "    .writeStream\n",
    "    .format(\"delta\")\n",
    "    .outputMode(\"append\")\n",
    "    .option(\"checkpointLocation\", SILVER_CHECKPOINT)\n",
    "    .trigger(processingTime='4 minutes')\n",
    "    .start(SILVER_DELTA)\n",
    ")"
   ]
  },
  {
   "cell_type": "code",
   "execution_count": 0,
   "metadata": {
    "application/vnd.databricks.v1+cell": {
     "cellMetadata": {
      "byteLimit": 2048000,
      "rowLimit": 10000
     },
     "inputWidgets": {},
     "nuid": "6bba0f0f-61cf-4f65-80d4-cf48da1cafcc",
     "showTitle": false,
     "title": ""
    }
   },
   "outputs": [],
   "source": [
    "#silver_stream.stop()"
   ]
  },
  {
   "cell_type": "code",
   "execution_count": 0,
   "metadata": {
    "application/vnd.databricks.v1+cell": {
     "cellMetadata": {
      "byteLimit": 2048000,
      "rowLimit": 10000
     },
     "inputWidgets": {},
     "nuid": "890444a2-b030-446b-b83a-8f5c94991e71",
     "showTitle": false,
     "title": ""
    }
   },
   "outputs": [
    {
     "output_type": "stream",
     "name": "stdout",
     "output_type": "stream",
     "text": [
      "Number of rows in SILVER table: 97417\n"
     ]
    }
   ],
   "source": [
    "\n",
    "silver_df = spark.read.format(\"delta\").load(SILVER_DELTA)\n",
    "\n",
    "count = silver_df.count()\n",
    "print(f\"Number of rows in SILVER table: {count}\")\n"
   ]
  },
  {
   "cell_type": "code",
   "execution_count": 0,
   "metadata": {
    "application/vnd.databricks.v1+cell": {
     "cellMetadata": {
      "byteLimit": 2048000,
      "rowLimit": 10000
     },
     "inputWidgets": {},
     "nuid": "63b850b2-246e-4841-af25-2906435acccd",
     "showTitle": false,
     "title": ""
    }
   },
   "outputs": [
    {
     "output_type": "stream",
     "name": "stdout",
     "output_type": "stream",
     "text": [
      "Out[36]: '\\n# Periodically checking the stream status\\nimport time\\nwhile silver_stream.isActive:\\n    print(silver_stream.status)\\n    time.sleep(20)\\n '"
     ]
    }
   ],
   "source": [
    "\"\"\"\n",
    "# Periodically checking the stream status\n",
    "import time\n",
    "while silver_stream.isActive:\n",
    "    print(silver_stream.status)\n",
    "    time.sleep(20)\n",
    " \"\"\""
   ]
  },
  {
   "cell_type": "code",
   "execution_count": 0,
   "metadata": {
    "application/vnd.databricks.v1+cell": {
     "cellMetadata": {
      "byteLimit": 2048000,
      "rowLimit": 10000
     },
     "inputWidgets": {},
     "nuid": "0f68cb00-2b3d-4816-ae9b-3a4f4ec6eaee",
     "showTitle": false,
     "title": ""
    }
   },
   "outputs": [
    {
     "output_type": "display_data",
     "data": {
      "text/plain": [
       ""
      ]
     },
     "metadata": {
      "application/vnd.databricks.v1+output": {
       "arguments": {},
       "data": "",
       "errorSummary": "Command skipped",
       "errorTraceType": "ansi",
       "metadata": {},
       "type": "ipynbError"
      }
     },
     "output_type": "display_data"
    }
   ],
   "source": [
    "#silver_data = spark.read.format(\"delta\").load(SILVER_DELTA)\n",
    "#display(silver_data)"
   ]
  },
  {
   "cell_type": "markdown",
   "metadata": {
    "application/vnd.databricks.v1+cell": {
     "cellMetadata": {
      "byteLimit": 2048000,
      "rowLimit": 10000
     },
     "inputWidgets": {},
     "nuid": "9ee38aba-e340-4766-8339-71ef2ecfde3a",
     "showTitle": false,
     "title": ""
    }
   },
   "source": [
    "## 6.0 Transform the Silver Data to Gold Data using a stream\n",
    "- setup a read stream on your silver delta table\n",
    "- setup a write stream to append to the gold delta table\n",
    "- Use the defined GOLD_CHECKPOINT and GOLD_DELTA paths defines in the includes\n",
    "- name your silver to gold stream as gold_stream\n",
    "- transform the silver data to the gold data using the data definition at the top of the notebook\n",
    "- Load the pretrained transformer sentiment classifier from the MODEL_NAME at the production level from the MLflow registry\n",
    "- Use a spark UDF to parallelize the inference across your silver data"
   ]
  },
  {
   "cell_type": "code",
   "execution_count": 0,
   "metadata": {
    "application/vnd.databricks.v1+cell": {
     "cellMetadata": {
      "byteLimit": 2048000,
      "rowLimit": 10000
     },
     "inputWidgets": {},
     "nuid": "f9991fac-d098-4d00-a9f0-860cb9460813",
     "showTitle": false,
     "title": ""
    },
    "jupyter": {
     "outputs_hidden": true
    }
   },
   "outputs": [],
   "source": [
    "# Reading streaming data from the Silver Delta table\n",
    "silver_df = (\n",
    "    spark.readStream\n",
    "    .format(\"delta\")\n",
    "    .load(SILVER_DELTA) \n",
    ")\n"
   ]
  },
  {
   "cell_type": "code",
   "execution_count": 0,
   "metadata": {
    "application/vnd.databricks.v1+cell": {
     "cellMetadata": {
      "byteLimit": 2048000,
      "rowLimit": 10000
     },
     "inputWidgets": {},
     "nuid": "eee1aaca-933e-4e29-8cc6-5d08056ccdfd",
     "showTitle": false,
     "title": ""
    }
   },
   "outputs": [
    {
     "output_type": "stream",
     "name": "stdout",
     "output_type": "stream",
     "text": [
      "/local_disk0/.ephemeral_nfs/envs/pythonEnv-b99f41e3-fc6f-4fb9-abd4-2a29429515bf/lib/python3.9/site-packages/mlflow/store/artifact/utils/models.py:32: FutureWarning: ``mlflow.tracking.client.MlflowClient.get_latest_versions`` is deprecated since 2.9.0. Model registry stages will be removed in a future major release. To learn more about the deprecation of model registry stages, see our migration guide here: https://mlflow.org/docs/2.12.2/model-registry.html#migrating-from-stages\n  latest = client.get_latest_versions(name, None if stage is None else [stage])\n"
     ]
    },
    {
     "output_type": "display_data",
     "data": {
      "application/vnd.jupyter.widget-view+json": {
       "model_id": "060656905bb848d7b916f9a29d4c1051",
       "version_major": 2,
       "version_minor": 0
      },
      "text/plain": [
       "Downloading artifacts:   0%|          | 0/25 [00:00<?, ?it/s]"
      ]
     },
     "metadata": {},
     "output_type": "display_data"
    },
    {
     "output_type": "stream",
     "name": "stdout",
     "output_type": "stream",
     "text": [
      "2024/05/12 03:44:48 INFO mlflow.store.artifact.artifact_repo: The progress bar can be disabled by setting the environment variable MLFLOW_ENABLE_ARTIFACTS_PROGRESS_BAR to false\n2024/05/12 03:44:52 WARNING mlflow.utils.requirements_utils: Detected one or more mismatches between the model's dependencies and the current Python environment:\n - mlflow (current: 2.12.2, required: mlflow==2.11.3)\nTo fix the mismatches, call `mlflow.pyfunc.get_model_dependencies(model_uri)` to fetch the model's environment and install dependencies using the resulting environment file.\n2024/05/12 03:44:52 WARNING mlflow.pyfunc: Calling `spark_udf()` with `env_manager=\"local\"` does not recreate the same environment that was used during training, which may lead to errors or inaccurate predictions. We recommend specifying `env_manager=\"conda\"`, which automatically recreates the environment that was used to train the model and performs inference in the recreated environment.\n"
     ]
    },
    {
     "output_type": "display_data",
     "data": {
      "application/vnd.jupyter.widget-view+json": {
       "model_id": "c7ac9d546716472f8da6e328492cbcb6",
       "version_major": 2,
       "version_minor": 0
      },
      "text/plain": [
       "Downloading artifacts:   0%|          | 0/1 [00:00<?, ?it/s]"
      ]
     },
     "metadata": {},
     "output_type": "display_data"
    },
    {
     "output_type": "stream",
     "name": "stdout",
     "output_type": "stream",
     "text": [
      "2024/05/12 03:44:52 INFO mlflow.models.flavor_backend_registry: Selected backend for flavor 'python_function'\n"
     ]
    }
   ],
   "source": [
    "# Loading the model as a Spark UDF from MLflow\n",
    "model_uri = f\"models:/{MODEL_NAME}/Production\"\n",
    "sentiment_analysis_udf = mlflow.pyfunc.spark_udf(spark, model_uri)"
   ]
  },
  {
   "cell_type": "code",
   "execution_count": 0,
   "metadata": {
    "application/vnd.databricks.v1+cell": {
     "cellMetadata": {
      "byteLimit": 2048000,
      "rowLimit": 10000
     },
     "inputWidgets": {},
     "nuid": "5a158db0-5fb6-4eda-b449-23a4f2d2abc7",
     "showTitle": false,
     "title": ""
    }
   },
   "outputs": [],
   "source": [
    "gold_stream_df = silver_df.select(\n",
    "    col(\"timestamp\"),\n",
    "    col(\"mention\"),\n",
    "    col(\"cleaned_text\"),\n",
    "    col(\"sentiment\"),\n",
    "    when(sentiment_analysis_udf(col(\"cleaned_text\")).getField(\"label\") == \"NEU\", \"NEG\")\n",
    "        .otherwise(sentiment_analysis_udf(col(\"cleaned_text\")).getField(\"label\"))\n",
    "        .alias(\"predicted_sentiment\"),\n",
    "    (sentiment_analysis_udf(col(\"cleaned_text\")).getField(\"score\") * 100)\n",
    "        .alias(\"predicted_score\"),\n",
    "    when(sentiment_analysis_udf(col(\"cleaned_text\")).getField(\"label\") == \"POS\", 1)   #The sentiments with a label POS is given value 1 that is considered poitive, while the NEU and NEG, neutral and negative are considered as negative. But the labels are maintained to keep count of them only sentiment values are afftected\n",
    "        .otherwise(0)\n",
    "        .alias(\"predicted_sentiment_id\"),\n",
    "    (col(\"sentiment\") == \"positive\").cast(\"integer\").alias(\"sentiment_id\")\n",
    ")\n"
   ]
  },
  {
   "cell_type": "code",
   "execution_count": 0,
   "metadata": {
    "application/vnd.databricks.v1+cell": {
     "cellMetadata": {
      "byteLimit": 2048000,
      "rowLimit": 10000
     },
     "inputWidgets": {},
     "nuid": "1664b21c-c5de-4254-805b-14bd85285f16",
     "showTitle": false,
     "title": ""
    }
   },
   "outputs": [
    {
     "output_type": "display_data",
     "data": {
      "text/plain": [
       ""
      ]
     },
     "metadata": {
      "application/vnd.databricks.v1+output": {
       "arguments": {},
       "data": "",
       "errorSummary": "Command skipped",
       "errorTraceType": "ansi",
       "metadata": {},
       "type": "ipynbError"
      }
     },
     "output_type": "display_data"
    }
   ],
   "source": [
    "# Writing stream to Gold Delta table\n",
    "gold_stream = (\n",
    "    gold_stream_df\n",
    "    .writeStream\n",
    "    .format(\"delta\")\n",
    "    .outputMode(\"append\")\n",
    "    .option(\"checkpointLocation\", GOLD_CHECKPOINT)\n",
    "    .trigger(processingTime='30 seconds')\n",
    "    .start(GOLD_DELTA)\n",
    ")"
   ]
  },
  {
   "cell_type": "code",
   "execution_count": 0,
   "metadata": {
    "application/vnd.databricks.v1+cell": {
     "cellMetadata": {
      "byteLimit": 2048000,
      "rowLimit": 10000
     },
     "inputWidgets": {},
     "nuid": "a57dc13f-84df-4d60-8d76-766a36c90ae6",
     "showTitle": false,
     "title": ""
    }
   },
   "outputs": [
    {
     "output_type": "display_data",
     "data": {
      "text/plain": [
       ""
      ]
     },
     "metadata": {
      "application/vnd.databricks.v1+output": {
       "arguments": {},
       "data": "",
       "errorSummary": "Command skipped",
       "errorTraceType": "ansi",
       "metadata": {},
       "type": "ipynbError"
      }
     },
     "output_type": "display_data"
    }
   ],
   "source": [
    "#gold_stream.stop()"
   ]
  },
  {
   "cell_type": "code",
   "execution_count": 0,
   "metadata": {
    "application/vnd.databricks.v1+cell": {
     "cellMetadata": {
      "byteLimit": 2048000,
      "rowLimit": 10000
     },
     "inputWidgets": {},
     "nuid": "03258b1e-7d16-4f0f-bde6-7d7db1025f15",
     "showTitle": false,
     "title": ""
    }
   },
   "outputs": [
    {
     "output_type": "stream",
     "name": "stdout",
     "output_type": "stream",
     "text": [
      "Number of rows in Gold table: 97417\n"
     ]
    }
   ],
   "source": [
    "\n",
    "gold_data = spark.read.format(\"delta\").load(GOLD_DELTA)\n",
    "\n",
    "count = gold_data.count()\n",
    "print(f\"Number of rows in Gold table: {count}\")\n"
   ]
  },
  {
   "cell_type": "code",
   "execution_count": 0,
   "metadata": {
    "application/vnd.databricks.v1+cell": {
     "cellMetadata": {
      "byteLimit": 2048000,
      "rowLimit": 10000
     },
     "inputWidgets": {},
     "nuid": "2a03ccba-7fef-4f9c-b65f-acce883420e5",
     "showTitle": false,
     "title": ""
    }
   },
   "outputs": [
    {
     "output_type": "stream",
     "name": "stdout",
     "output_type": "stream",
     "text": [
      "Out[42]: '\"\\n# Periodically checking the stream status\\nimport time\\nwhile gold_stream.isActive:\\n    print(gold_stream.status)\\n    time.sleep(300)\\n    '"
     ]
    }
   ],
   "source": [
    "\"\"\"\"\n",
    "# Periodically checking the stream status\n",
    "import time\n",
    "while gold_stream.isActive:\n",
    "    print(gold_stream.status)\n",
    "    time.sleep(300)\n",
    "    \"\"\""
   ]
  },
  {
   "cell_type": "code",
   "execution_count": 0,
   "metadata": {
    "application/vnd.databricks.v1+cell": {
     "cellMetadata": {
      "byteLimit": 2048000,
      "rowLimit": 10000
     },
     "inputWidgets": {},
     "nuid": "c485bb2d-0924-4ad2-a1e9-451fd59955a7",
     "showTitle": false,
     "title": ""
    }
   },
   "outputs": [],
   "source": [
    "#gold_data = spark.read.format(\"delta\").load(GOLD_DELTA)\n",
    "#display(gold_data)"
   ]
  },
  {
   "cell_type": "markdown",
   "metadata": {
    "application/vnd.databricks.v1+cell": {
     "cellMetadata": {
      "byteLimit": 2048000,
      "rowLimit": 10000
     },
     "inputWidgets": {},
     "nuid": "0494d8b4-5a55-47fc-af12-47325f34a303",
     "showTitle": false,
     "title": ""
    }
   },
   "source": [
    "## 7.0 Capture the accuracy metrics from the gold table in MLflow\n",
    "Store the following in an MLflow experiment run:\n",
    "- Store the precision, recall, and F1-score as MLflow metrics\n",
    "- Store an image of the confusion matrix as an MLflow artifact\n",
    "- Store the mdoel name and the MLflow version that was used as an MLflow parameters\n",
    "- Store the version of the Delta Table (input-silver) as an MLflow parameter"
   ]
  },
  {
   "cell_type": "code",
   "execution_count": 0,
   "metadata": {
    "application/vnd.databricks.v1+cell": {
     "cellMetadata": {
      "byteLimit": 2048000,
      "rowLimit": 10000
     },
     "inputWidgets": {},
     "nuid": "e9f57544-f814-4d3b-a18d-682f8191c2e0",
     "showTitle": false,
     "title": ""
    }
   },
   "outputs": [],
   "source": [
    "gold_data = spark.read.format(\"delta\").load(GOLD_DELTA)\n",
    "pdf = gold_data.select(\"predicted_sentiment_id\", \"sentiment_id\").toPandas()\n"
   ]
  },
  {
   "cell_type": "code",
   "execution_count": 0,
   "metadata": {
    "application/vnd.databricks.v1+cell": {
     "cellMetadata": {
      "byteLimit": 2048000,
      "rowLimit": 10000
     },
     "inputWidgets": {},
     "nuid": "70f04b8a-260f-41df-84e1-0365c39f2e5c",
     "showTitle": false,
     "title": ""
    }
   },
   "outputs": [
    {
     "output_type": "display_data",
     "data": {
      "image/png": "[encoded data removed]"
     },
     "metadata": {
      "application/vnd.databricks.v1+output": {
       "addedWidgets": {},
       "arguments": {},
       "data": "data:image/png;base64,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\n",
       "datasetInfos": [],
       "metadata": {},
       "removedWidgets": [],
       "type": "image"
      }
     },
     "output_type": "display_data"
    }
   ],
   "source": [
    "precision = precision_score(pdf['sentiment_id'], pdf['predicted_sentiment_id'], average='binary')\n",
    "recall = recall_score(pdf['sentiment_id'], pdf['predicted_sentiment_id'], average='binary')\n",
    "f1 = f1_score(pdf['sentiment_id'], pdf['predicted_sentiment_id'], average='binary')\n",
    "\n",
    "# Generating confusion matrix\n",
    "cm = confusion_matrix(pdf['sentiment_id'], pdf['predicted_sentiment_id'])\n",
    "\n",
    "# Ploting confusion matrix\n",
    "plt.figure(figsize=(8, 6))\n",
    "sns.heatmap(cm, annot=True, fmt=\"d\", cmap=\"Blues\")\n",
    "plt.xlabel(\"Predicted\")\n",
    "plt.ylabel(\"Actual\")\n",
    "plt.title(\"Confusion Matrix\")\n",
    "confusion_matrix_path = \"/dbfs/tmp/confusion_matrix.png\"  \n",
    "plt.savefig(confusion_matrix_path)\n",
    "\n",
    "# Log to MLflow\n",
    "with mlflow.start_run():\n",
    "    # Log metrics\n",
    "    mlflow.log_metric(\"precision\", precision)\n",
    "    mlflow.log_metric(\"recall\", recall)\n",
    "    mlflow.log_metric(\"f1_score\", f1)\n",
    "    mlflow.log_artifact(confusion_matrix_path)\n",
    "\n",
    "    # Log the confusion matrix as an artifact\n",
    "    mlflow.log_artifact(confusion_matrix_path)\n",
    "\n",
    "    # Log the MLflow version and model name\n",
    "    mlflow.log_param(\"mlflow_version\", mlflow.__version__)\n",
    "    mlflow.log_param(\"model_name\", MODEL_NAME)  \n",
    "\n",
    "    # Log the version of the Silver Delta Table\n",
    "    delta_table = DeltaTable.forPath(spark, SILVER_DELTA)\n",
    "    version = delta_table.history(1).collect()[0]['version'] \n",
    "    mlflow.log_param(\"silver_delta_table_version\", str(version))\n"
   ]
  },
  {
   "cell_type": "markdown",
   "metadata": {
    "application/vnd.databricks.v1+cell": {
     "cellMetadata": {
      "byteLimit": 2048000,
      "rowLimit": 10000
     },
     "inputWidgets": {},
     "nuid": "81e0e2de-b872-4698-81cc-1669646c2183",
     "showTitle": false,
     "title": ""
    }
   },
   "source": [
    "## 8.0 Application Data Processing and Visualization\n",
    "- How many mentions are there in the gold data total?\n",
    "- Count the number of neutral, positive and negative tweets for each mention in new columns\n",
    "- Capture the total for each mention in a new column\n",
    "- Sort the mention count totals in descending order\n",
    "- Plot a bar chart of the top 20 mentions with positive sentiment (the people who are in favor)\n",
    "- Plot a bar chart of the top 20 mentions with negative sentiment (the people who are the vilians)\n",
    "\n",
    "You may want to use the \"Loop Application\" widget to control whether you repeateded display the latest plots while the data comes in from your streams before moving on to the next section and cleaning up your run.\n",
    "\n",
    "*note: A mention is a specific twitter user that has been \"mentioned\" in a tweet with an @user reference."
   ]
  },
  {
   "cell_type": "code",
   "execution_count": 0,
   "metadata": {
    "application/vnd.databricks.v1+cell": {
     "cellMetadata": {
      "byteLimit": 2048000,
      "rowLimit": 10000
     },
     "inputWidgets": {},
     "nuid": "8250667b-eaa5-48a1-90c7-bfe11e666e32",
     "showTitle": false,
     "title": ""
    }
   },
   "outputs": [],
   "source": [
    "# Remove any existing widgets\n",
    "#dbutils.widgets.removeAll()\n",
    "\n",
    "# Create a dropdown widget to control the loop\n",
    "#dbutils.widgets.dropdown(\"Update Plots\", \"Yes\", [\"Yes\", \"No\"])\n"
   ]
  },
  {
   "cell_type": "code",
   "execution_count": 0,
   "metadata": {
    "application/vnd.databricks.v1+cell": {
     "cellMetadata": {
      "byteLimit": 2048000,
      "rowLimit": 10000
     },
     "inputWidgets": {},
     "nuid": "aeca2962-df2c-48ad-bea8-2b8cd1df3507",
     "showTitle": false,
     "title": ""
    }
   },
   "outputs": [],
   "source": [
    "def update_plots():\n",
    "    gold_df = spark.read.format(\"delta\").load(GOLD_DELTA)\n",
    "    agg_df = gold_df.groupBy(\"mention\").agg(\n",
    "        F.min(\"timestamp\").alias(\"min_timestamp\"),\n",
    "        F.max(\"timestamp\").alias(\"max_timestamp\"),\n",
    "        F.sum(F.when(F.col(\"predicted_sentiment\") == \"NEG\", 1).otherwise(0)).alias(\"negative\"),\n",
    "        F.sum(F.when(F.col(\"predicted_sentiment\") == \"NEU\", 1).otherwise(0)).alias(\"neutral\"),\n",
    "        F.sum(F.when(F.col(\"predicted_sentiment\") == \"POS\", 1).otherwise(0)).alias(\"positive\")\n",
    "    ).withColumn(\"total_mentions\", F.col(\"negative\") + F.col(\"neutral\") + F.col(\"positive\"))\n",
    "    sorted_df = agg_df.orderBy(F.col(\"total_mentions\").desc()).toPandas()\n",
    "\n",
    "    total_mentions = agg_df.count()\n",
    "    print(f\"Total number of unique mentions: {total_mentions}\")\n",
    "\n",
    "    # Create and return figures\n",
    "    fig1, ax1 = plt.subplots(figsize=(12, 8))\n",
    "    sns.barplot(x=\"positive\", y=\"mention\", data=sorted_df.head(20), palette=\"viridis\", ax=ax1)\n",
    "    ax1.set_title(\"Top 20 Mentions with Positive Sentiment\")\n",
    "    ax1.set_xlabel(\"Count of Positive Tweets\")\n",
    "    ax1.set_ylabel(\"Mention\")\n",
    "\n",
    "    fig2, ax2 = plt.subplots(figsize=(12, 8))\n",
    "    sns.barplot(x=\"negative\", y=\"mention\", data=sorted_df.head(20), palette=\"inferno\", ax=ax2)\n",
    "    ax2.set_title(\"Top 20 Mentions with Negative Sentiment\")\n",
    "    ax2.set_xlabel(\"Count of Negative Tweets\")\n",
    "    ax2.set_ylabel(\"Mention\")\n",
    "\n",
    "    return fig1, fig2\n"
   ]
  },
  {
   "cell_type": "code",
   "execution_count": 0,
   "metadata": {
    "application/vnd.databricks.v1+cell": {
     "cellMetadata": {
      "byteLimit": 2048000,
      "rowLimit": 10000
     },
     "inputWidgets": {},
     "nuid": "8559dc45-47dd-496a-83b9-c8b215044cb6",
     "showTitle": false,
     "title": ""
    }
   },
   "outputs": [
    {
     "output_type": "stream",
     "name": "stdout",
     "output_type": "stream",
     "text": [
      "Total number of unique mentions: 65228\n"
     ]
    },
    {
     "output_type": "display_data",
     "data": {
      "image/png": "[encoded data removed]"
     },
     "metadata": {
      "application/vnd.databricks.v1+output": {
       "addedWidgets": {},
       "arguments": {},
       "data": "data:image/png;base64,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\n",
       "datasetInfos": [],
       "metadata": {},
       "removedWidgets": [],
       "type": "image"
      }
     },
     "output_type": "display_data"
    },
    {
     "output_type": "display_data",
     "data": {
      "image/png": "[encoded data removed]"
     },
     "metadata": {
      "application/vnd.databricks.v1+output": {
       "addedWidgets": {},
       "arguments": {},
       "data": "data:image/png;base64,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\n",
       "datasetInfos": [],
       "metadata": {},
       "removedWidgets": [],
       "type": "image"
      }
     },
     "output_type": "display_data"
    }
   ],
   "source": [
    "fig1, fig2 = update_plots()\n",
    "plt.show(fig1)\n",
    "plt.show(fig2)"
   ]
  },
  {
   "cell_type": "code",
   "execution_count": 0,
   "metadata": {
    "application/vnd.databricks.v1+cell": {
     "cellMetadata": {
      "byteLimit": 2048000,
      "rowLimit": 10000
     },
     "inputWidgets": {},
     "nuid": "e5ac5d1f-a02c-43fb-9988-793ff0ea663c",
     "showTitle": false,
     "title": ""
    },
    "jupyter": {
     "outputs_hidden": true
    }
   },
   "outputs": [
    {
     "output_type": "display_data",
     "data": {
      "text/plain": [
       ""
      ]
     },
     "metadata": {
      "application/vnd.databricks.v1+output": {
       "arguments": {},
       "data": "",
       "errorSummary": "Command skipped",
       "errorTraceType": "ansi",
       "metadata": {},
       "type": "ipynbError"
      }
     },
     "output_type": "display_data"
    }
   ],
   "source": [
    "\"\"\"\n",
    "\n",
    "while True:\n",
    "    if dbutils.widgets.get(\"Update Plots\") == \"Yes\":\n",
    "        fig1, fig2 = update_plots()\n",
    "        \n",
    "        plt.show(fig1)\n",
    "        plt.close(fig1)  \n",
    "        \n",
    "        plt.show(fig2)\n",
    "        plt.close(fig2)  \n",
    "        \n",
    "        time.sleep(30)\n",
    "    else:\n",
    "        time.sleep(120)\n",
    "        continue\n",
    "\"\"\""
   ]
  },
  {
   "cell_type": "code",
   "execution_count": 0,
   "metadata": {
    "application/vnd.databricks.v1+cell": {
     "cellMetadata": {
      "byteLimit": 2048000,
      "rowLimit": 10000
     },
     "inputWidgets": {},
     "nuid": "4aca9286-0634-46a7-b712-15f19fe7d0ae",
     "showTitle": false,
     "title": ""
    }
   },
   "outputs": [
    {
     "output_type": "display_data",
     "data": {
      "text/plain": [
       ""
      ]
     },
     "metadata": {
      "application/vnd.databricks.v1+output": {
       "arguments": {},
       "data": "",
       "errorSummary": "Command skipped",
       "errorTraceType": "ansi",
       "metadata": {},
       "type": "ipynbError"
      }
     },
     "output_type": "display_data"
    }
   ],
   "source": [
    "\"\"\"\n",
    "top_mentions_pd = sorted_df.toPandas()\n",
    "\n",
    "plt.figure(figsize=(12, 8))\n",
    "sns.barplot(x=\"positive\", y=\"mention\", data=top_mentions_pd.head(20))\n",
    "plt.title(\"Top 20 Mentions with Positive Sentiment\")\n",
    "plt.xlabel(\"Count of Positive Tweets\")\n",
    "plt.ylabel(\"Mention\")\n",
    "plt.show()\n",
    "\n",
    "plt.figure(figsize=(12, 8))\n",
    "sns.barplot(x=\"negative\", y=\"mention\", data=top_mentions_pd.head(20))\n",
    "plt.title(\"Top 20 Mentions with Negative Sentiment\")\n",
    "plt.xlabel(\"Count of Negative Tweets\")\n",
    "plt.ylabel(\"Mention\")\n",
    "plt.show()\n",
    "\"\"\""
   ]
  },
  {
   "cell_type": "markdown",
   "metadata": {
    "application/vnd.databricks.v1+cell": {
     "cellMetadata": {
      "byteLimit": 2048000,
      "rowLimit": 10000
     },
     "inputWidgets": {},
     "nuid": "5d5add3f-0c13-4d81-86d8-12cf3cfdd2c8",
     "showTitle": false,
     "title": ""
    }
   },
   "source": [
    "## 9.0 Clean up and completion of your pipeline\n",
    "- using the utilities what streams are running? If any.\n",
    "- Stop all active streams\n",
    "- print out the elapsed time of your notebook."
   ]
  },
  {
   "cell_type": "code",
   "execution_count": 0,
   "metadata": {
    "application/vnd.databricks.v1+cell": {
     "cellMetadata": {
      "byteLimit": 2048000,
      "rowLimit": 10000
     },
     "inputWidgets": {},
     "nuid": "f413e6c8-9bd0-42b8-b0ed-0aaf8ae16325",
     "showTitle": false,
     "title": ""
    }
   },
   "outputs": [],
   "source": [
    "from pyspark.sql import SparkSession\n",
    "\n",
    "def stop_all_streams(spark: SparkSession) -> bool:\n",
    "    \"\"\"\n",
    "    Stops all active streams in the given Spark session.\n",
    "    Returns True if all streams were stopped successfully, False otherwise.\n",
    "    \"\"\"\n",
    "    stopped = True\n",
    "    for stream in spark.streams.active:\n",
    "        print(f\"Stopping stream: {stream.name}\")\n",
    "        stream.stop()\n",
    "        if stream.isActive:\n",
    "            stopped = False\n",
    "    return stopped\n",
    "\n",
    "def print_active_streams(spark: SparkSession):\n",
    "    \"\"\"\n",
    "    Prints all currently active streams.\n",
    "    \"\"\"\n",
    "    active_streams = spark.streams.active\n",
    "    if active_streams:\n",
    "        print(\"Active streams:\")\n",
    "        for stream in active_streams:\n",
    "            print(f\"- {stream.name}\")\n",
    "    else:\n",
    "        print(\"No active streams.\")\n"
   ]
  },
  {
   "cell_type": "code",
   "execution_count": 0,
   "metadata": {
    "application/vnd.databricks.v1+cell": {
     "cellMetadata": {
      "byteLimit": 2048000,
      "rowLimit": 10000
     },
     "inputWidgets": {},
     "nuid": "fca48496-9886-4b82-9d7c-82b3a5b0068a",
     "showTitle": false,
     "title": ""
    }
   },
   "outputs": [
    {
     "output_type": "stream",
     "name": "stdout",
     "output_type": "stream",
     "text": [
      "No active streams.\nAll streams have been stopped successfully.\nNo active streams.\n"
     ]
    }
   ],
   "source": [
    "print_active_streams(spark)  \n",
    "if stop_all_streams(spark):\n",
    "    print(\"All streams have been stopped successfully.\")\n",
    "else:\n",
    "    print(\"Failed to stop one or more streams.\")\n",
    "\n",
    "print_active_streams(spark) \n"
   ]
  },
  {
   "cell_type": "code",
   "execution_count": 0,
   "metadata": {
    "application/vnd.databricks.v1+cell": {
     "cellMetadata": {
      "byteLimit": 2048000,
      "rowLimit": 10000
     },
     "inputWidgets": {},
     "nuid": "ea759fc8-1d78-4d6d-b571-e2e256448b76",
     "showTitle": false,
     "title": ""
    }
   },
   "outputs": [],
   "source": [
    "# Get the notebooks ending time note START_TIME was established in the include file when the notebook started.\n",
    "END_TIME = time.time()"
   ]
  },
  {
   "cell_type": "code",
   "execution_count": 0,
   "metadata": {
    "application/vnd.databricks.v1+cell": {
     "cellMetadata": {
      "byteLimit": 2048000,
      "rowLimit": 10000
     },
     "inputWidgets": {},
     "nuid": "10747c7b-ea1f-4102-846a-56eee49bf6f6",
     "showTitle": false,
     "title": ""
    }
   },
   "outputs": [
    {
     "output_type": "stream",
     "name": "stdout",
     "output_type": "stream",
     "text": [
      "907.3938529491425 seconds\n"
     ]
    }
   ],
   "source": [
    "total_time = END_TIME - START_TIME\n",
    "\n",
    "# Print the total time taken.\n",
    "print(f\"{total_time} seconds\")"
   ]
  },
  {
   "cell_type": "markdown",
   "metadata": {
    "application/vnd.databricks.v1+cell": {
     "cellMetadata": {
      "byteLimit": 2048000,
      "rowLimit": 10000
     },
     "inputWidgets": {},
     "nuid": "b88fc0e5-f50c-4ed1-9480-16a4c8a44b30",
     "showTitle": false,
     "title": ""
    }
   },
   "source": [
    "## 10.0 How Optimized is your Spark Application (Grad Students Only)\n",
    "Graduate students (registered for the DSCC-402 section of the course) are required to do this section.  This is a written analysis using the Spark UI (link to screen shots) that support your analysis of your pipelines execution and what is driving its performance.\n",
    "Recall that Spark Optimization has 5 significant dimensions of considertation:\n",
    "- Spill: write to executor disk due to lack of memory\n",
    "- Skew: imbalance in partition size\n",
    "- Shuffle: network io moving data between executors (wide transforms)\n",
    "- Storage: inefficiency due to disk storage format (small files, location)\n",
    "- Serialization: distribution of code segments across the cluster\n",
    "\n",
    "Comment on each of the dimentions of performance and how your impelementation is or is not being affected.  Use specific information in the Spark UI to support your description.  \n",
    "\n",
    "Note: you can take sreenshots of the Spark UI from your project runs in databricks and then link to those pictures by storing them as a publicly accessible file on your cloud drive (google, one drive, etc.)\n",
    "\n",
    "References:\n",
    "- [Spark UI Reference Reference](https://spark.apache.org/docs/latest/web-ui.html#web-ui)\n",
    "- [Spark UI Simulator](https://www.databricks.training/spark-ui-simulator/index.html)"
   ]
  },
  {
   "cell_type": "markdown",
   "metadata": {
    "application/vnd.databricks.v1+cell": {
     "cellMetadata": {
      "byteLimit": 2048000,
      "rowLimit": 10000
     },
     "inputWidgets": {},
     "nuid": "a0a5707d-a5ca-4e87-9e74-3b13d00337b0",
     "showTitle": false,
     "title": ""
    }
   },
   "source": [
    "For a random given stage have 37 tasks(in the screenshot), we canobserve the following things, \n",
    "https://drive.google.com/file/d/1C8j6qgaiIfDgHPhLBhIAdNt9W-3Z31_w/view?usp=sharing\n",
    "https://drive.google.com/file/d/1_duxk31VyL1WBZiS_jesfwP8pL7S1mp0/view?usp=drive_link\n",
    "\n",
    "\n",
    "##### Spill \n",
    "  -  Peak Execution Memory shows all tasks are consistently using 64.3 MiB. There is no indication of memory spill to disk which is a positive sign indicating that memory management within your tasks is efficient.\n",
    "  - Implication: This is an indicator of efficient memory management. It suggests that the current memory settings are adequate for the workload, minimizing the need for tasks to spill data to disk, which can significantly slow down performance.\n",
    "#####  Skew\n",
    "  -  The input size per record across tasks is quite consistent (around 78 KiB to 86.4 KiB), suggesting that there is minimal skew in data partitioning. This uniformity helps in maintaining balanced workloads across tasks.\n",
    "  - Implication: The slight variation in shuffle write sizes could indicate minor skew in data distribution across partitions. However, the differences are not substantial, suggesting that any skew is not severely impacting performance.\n",
    "##### Shuffle\n",
    "  - The shuffle write size is fairly consistent, hovering around 110.8 KiB to 116.2 KiB, with a slight variance in shuffle write time (18 ms to 33 ms). This indicates efficient handling of shuffle operations but points to a potential area for optimization to reduce write times. While there is data being shuffled across nodes, it's not excessively large.\n",
    "  - Implication: Moderate shuffle sizes are typically manageable but increasing data volume or complexity could lead to higher shuffle volumes, impacting network IO and overall job performance.\n",
    "\n",
    "\n",
    "\n",
    "https://drive.google.com/file/d/1hd7yv2hkDECudLaJwQukC2QEkIKOvltU/view?usp=sharing\n",
    "\n",
    "\n",
    "https://drive.google.com/file/d/1eLf4tCb4TC1TvInH4FQP4kyh1NzARUrP/view?usp=sharing\n",
    "\n",
    "From the above two screen shots, we can see learn about the storage dimension(These were taken after the jobs were completed)\n",
    "\n",
    "##### Storage \n",
    "- The Spark UI shows that a small amount of memory (27.0 KiB) is being used for caching RDDs related to Delta Table states. This implies efficient utilization of memory with minimal disk usage, as shown by \"Disk Size: 0.0 B\" for the cached data. It indicates that the data fits well within the allocated memory, preventing any need for spilling to disk.\n",
    "- The total disk usage limit is far from being reached (463.9 GiB limit with only 38.5 MiB used), suggesting that the current workload is well within the hardware's capacity. So even when the processes in this code were running, there would have been sufficient memory.\n",
    "- There is a noticeable amount of data being read (91.5 MiB) and written (28.0 MiB) to the IO cache. This activity supports the performance by lessening the amount of data processing required directly from the external file system, shown by the 70.6 MiB read externally.\n",
    "- The RDDs for Delta Table states are stored with \"Disk Memory Serialized 1x Replicated\" storage level. This means that the data is serialized, stored both in memory and on disk, and replicated once across the cluster for fault tolerance.\n",
    "- Each of the RDDs associated with Delta Table states shows that all partitions (100% of them) are cached. This ensures quick access to these partitions during Spark jobs, reducing the time needed to fetch this data repeatedly from disk or rebuild it from other operations.\n",
    "- Caching these partitions fully in memory aids in speeding up queries that access these tables frequently, as the data can be quickly retrieved from memory instead of being read from disk or recomputed.\n",
    "- The minimal memory use for metadata (e.g., 10.6 MiB for metadata cache size) coupled with the cache hit ratio of 76% suggests that the metadata operations for Delta Tables are efficiently supporting the query operations, where most data needed is being served from cache rather than requiring fresh reads from storage.\n",
    "\n",
    "\n",
    "https://drive.google.com/file/d/1W4c9WccYy61ptJ9M7szdRMlZqztFZjzX/view?usp=sharing\n",
    "\n",
    "##### Serialisation\n",
    "- This setting controls the number of objects serialized before Spark's serializer resets the object output stream. Resetting the object output stream clears any memory references it holds, preventing a memory leak and reducing the size of the serialized data that needs to be transmitted over the network.\n",
    "- The default value is 100, meaning the output stream will reset after every 100 objects are serialized. This is a balanced choice that prevents excessive memory usage without resetting so frequently that it impacts performance adversely. \n",
    "\n"
   ]
  }
 ],
 "metadata": {
  "application/vnd.databricks.v1+notebook": {
   "dashboards": [],
   "language": "python",
   "notebookMetadata": {
    "mostRecentlyExecutedCommandWithImplicitDF": {
     "commandId": 1181270846488870,
     "dataframes": [
      "_sqldf"
     ]
    },
    "pythonIndentUnit": 4,
    "widgetLayout": [
     {
      "breakBefore": false,
      "name": "clear_previous_run",
      "width": 203
     },
     {
      "breakBefore": false,
      "name": "stop_streams",
      "width": 203
     }
    ]
   },
   "notebookName": "Starter Streaming Tweet Sentiment - Spring 2024 Final Project",
   "widgets": {}
  }
 },
 "nbformat": 4,
 "nbformat_minor": 0
}
